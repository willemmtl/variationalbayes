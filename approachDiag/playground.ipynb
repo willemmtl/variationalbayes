{
 "cells": [
  {
   "cell_type": "code",
   "execution_count": 1,
   "metadata": {},
   "outputs": [],
   "source": [
    "using Random, Gadfly, Optim, Distributions, Distances, LinearAlgebra, ForwardDiff, Cairo\n",
    "\n",
    "include(\"../iGMRF.jl\");\n",
    "include(\"../dataGen.jl\");\n",
    "include(\"../approxFramework.jl\");\n",
    "include(\"optim.jl\");"
   ]
  },
  {
   "cell_type": "code",
   "execution_count": 2,
   "metadata": {},
   "outputs": [],
   "source": [
    "# Seed\n",
    "Random.seed!(400)\n",
    "# Dimensions de la grille\n",
    "m₁ = 3;\n",
    "m₂ = 3;\n",
    "# Nb total de cellules\n",
    "m = m₁ * m₂;\n",
    "# Matrice de structure\n",
    "κᵤ = 100.0;\n",
    "F = iGMRF(m₁, m₂, κᵤ);\n",
    "# Grille cible\n",
    "grid_target = generateTargetGrid(F);\n",
    "grid_target[:, :, 1] = grid_target[:, :, 1] .+ 10;\n",
    "# Génération de données\n",
    "nobs = 100;\n",
    "Y = generateData(grid_target, nobs);"
   ]
  },
  {
   "cell_type": "code",
   "execution_count": 3,
   "metadata": {},
   "outputs": [
    {
     "data": {
      "text/plain": [
       " * Status: success\n",
       "\n",
       " * Candidate solution\n",
       "    Final objective value:     -2.485120e-06\n",
       "\n",
       " * Found with\n",
       "    Algorithm:     Nelder-Mead\n",
       "\n",
       " * Convergence measures\n",
       "    √(Σ(yᵢ-ȳ)²)/n ≤ 1.0e-08\n",
       "\n",
       " * Work counters\n",
       "    Seconds run:   1  (vs limit Inf)\n",
       "    Iterations:    161\n",
       "    f(x) calls:    318\n"
      ]
     },
     "metadata": {},
     "output_type": "display_data"
    }
   ],
   "source": [
    "res = KLOptim(F, Y)"
   ]
  },
  {
   "cell_type": "markdown",
   "metadata": {},
   "source": [
    "## Analyse de l'approximation"
   ]
  },
  {
   "cell_type": "markdown",
   "metadata": {},
   "source": [
    "### Visuelle"
   ]
  },
  {
   "cell_type": "code",
   "execution_count": 4,
   "metadata": {},
   "outputs": [],
   "source": [
    "η̂ = Optim.minimizer(res)[1:m+1];\n",
    "Σ̂ = diagm(Optim.minimizer(res)[m+2:end].^2);\n",
    "\n",
    "d̂ = MvNormal(η̂, Σ̂);"
   ]
  },
  {
   "cell_type": "markdown",
   "metadata": {},
   "source": [
    "Graphiques LOG"
   ]
  },
  {
   "cell_type": "code",
   "execution_count": 5,
   "metadata": {},
   "outputs": [],
   "source": [
    "npoints = 10000; # Nombre de points sur lesquels évaluer la pdf\n",
    "x = range(-10, 15, npoints);\n",
    "\n",
    "# Mode de la posteriori\n",
    "α = Optim.minimizer(initializeValues(θ -> densityTarget(θ, F=F, Y=Y), [1, fill(0.0, m)...]));\n",
    "\n",
    "analysisSpace = zeros(m+1, npoints);\n",
    "for j = 1:npoints\n",
    "    analysisSpace[:, j] = [x[j], α[2:end]...];\n",
    "end\n",
    "\n",
    "simApprox = vec(mapslices(x -> logpdf(d̂, x), analysisSpace, dims=1));\n",
    "simPosterior = vec(mapslices(x -> densityTarget(x, F=F, Y=Y), analysisSpace, dims=1));\n",
    "\n",
    "p = plot(\n",
    "    layer(x=x, y=simApprox, Geom.line, Theme(default_color=\"red\")),\n",
    "    layer(x=x, y=simPosterior, Geom.line),\n",
    "    Guide.manual_color_key(\"Legend\", [\"Approximation\", \"Posteriori\"], [\"red\", \"deepskyblue\"]),\n",
    "    Theme(background_color=\"white\"),\n",
    "    Guide.title(\"Pour kappa_u\")\n",
    ")\n",
    "\n",
    "draw(PNG(\"../plots/diag/diag_log_kappa.png\"), p)"
   ]
  },
  {
   "cell_type": "code",
   "execution_count": 6,
   "metadata": {},
   "outputs": [],
   "source": [
    "npoints = 10000; # Nombre de points sur lesquels évaluer la pdf\n",
    "x = range(-10, 18, npoints);\n",
    "\n",
    "# Mode de la posteriori\n",
    "α = Optim.minimizer(initializeValues(θ -> densityTarget(θ, F=F, Y=Y), [1, fill(0.0, m)...]));\n",
    "\n",
    "analysisSpace = zeros(m+1, npoints);\n",
    "for j = 1:npoints\n",
    "    analysisSpace[:, j] = [α[1], x[j], α[3:end]...];\n",
    "end\n",
    "\n",
    "simApprox = vec(mapslices(x -> logpdf(d̂, x), analysisSpace, dims=1));\n",
    "simPosterior = vec(mapslices(x -> densityTarget(x, F=F, Y=Y), analysisSpace, dims=1));\n",
    "\n",
    "p = plot(\n",
    "    layer(x=x, y=simApprox, Geom.line, Theme(default_color=\"red\")),\n",
    "    layer(x=x, y=simPosterior, Geom.line),\n",
    "    Guide.manual_color_key(\"Legend\", [\"Approximation\", \"Posteriori\"], [\"red\", \"deepskyblue\"]),\n",
    "    Theme(background_color=\"white\"),\n",
    "    Guide.title(\"Pour mu\")\n",
    ")\n",
    "\n",
    "draw(PNG(\"../plots/diag/diag_log_mu.png\"), p)"
   ]
  },
  {
   "cell_type": "markdown",
   "metadata": {},
   "source": [
    "Approx vs MCMC"
   ]
  },
  {
   "cell_type": "code",
   "execution_count": 7,
   "metadata": {},
   "outputs": [],
   "source": [
    "include(\"../mcmc.jl\");\n",
    "\n",
    "niter = 10000\n",
    "δ² = 0.2\n",
    "κᵤ₀ = 10\n",
    "μ₀ = zeros(m)\n",
    "\n",
    "θ = gibbs(niter, Y, m₁=m₁, m₂=m₂, δ²=δ², κᵤ₀=κᵤ₀, μ₀=μ₀);\n",
    "\n",
    "warming_size = Int(0.2 * niter);\n",
    "θsampling = θ[warming_size:end, :, :];"
   ]
  },
  {
   "cell_type": "code",
   "execution_count": 8,
   "metadata": {},
   "outputs": [],
   "source": [
    "# Pour κᵤ\n",
    "\n",
    "approxDensity(x::Real) = 1/x * pdf(Normal(η̂[1], Σ̂[1, 1]), log(x))\n",
    "x = 0:0.1:1000\n",
    "\n",
    "p = plot(\n",
    "    layer(x=θsampling.value[:, 1, 1], Geom.histogram(density=true)),\n",
    "    layer(x=x, y=approxDensity.(x), Geom.line, Theme(default_color=\"red\")),\n",
    "    Guide.manual_color_key(\"Legend\", [\"Approximation\", \"Posteriori\"], [\"red\", \"deepskyblue\"]),\n",
    "    Theme(background_color=\"white\"),\n",
    "    Guide.title(\"Approx vs MCMC pour kappa_u\")\n",
    ")\n",
    "\n",
    "draw(PNG(\"../plots/diag/diag_approxvsmcmc_kappa.png\"), p)"
   ]
  },
  {
   "cell_type": "code",
   "execution_count": 9,
   "metadata": {},
   "outputs": [],
   "source": [
    "# Pour μ\n",
    "\n",
    "approxDensity(x::Real) = pdf(Normal(η̂[2], Σ̂[2, 2]), x)\n",
    "x = 9.5:.01:12\n",
    "\n",
    "p = plot(\n",
    "    layer(x=θsampling.value[:, 2, 1], Geom.histogram(density=true)),\n",
    "    layer(x=x, y=approxDensity.(x), Geom.line, Theme(default_color=\"red\")),\n",
    "    Guide.manual_color_key(\"Legend\", [\"Approximation\", \"Posteriori\"], [\"red\", \"deepskyblue\"]),\n",
    "    Theme(background_color=\"white\"),\n",
    "    Guide.title(\"Approx vs MCMC pour mu\")\n",
    ")\n",
    "\n",
    "draw(PNG(\"../plots/diag/diag_approxvsmcmc_mu.png\"), p)"
   ]
  },
  {
   "cell_type": "markdown",
   "metadata": {},
   "source": [
    "## Valeurs de la divergence en des points donnés"
   ]
  },
  {
   "cell_type": "code",
   "execution_count": 36,
   "metadata": {},
   "outputs": [
    {
     "data": {
      "text/plain": [
       "-1.1730904924687093e-6"
      ]
     },
     "metadata": {},
     "output_type": "display_data"
    }
   ],
   "source": [
    "η₀ = α;\n",
    "Σ₀ = diagm(diag(inv(computeFisherInformation(θ -> densityTarget(θ, F=F, Y=Y), α))));\n",
    "\n",
    "# x = [1000.0, fill(20.0, m)...];\n",
    "\n",
    "p = [densityTarget(η₀, F=F, Y=Y)]\n",
    "q = [logpdf(MvNormal(η₀, Σ₀), η₀)]\n",
    "\n",
    "kldiv(p, q)"
   ]
  },
  {
   "cell_type": "code",
   "execution_count": 26,
   "metadata": {},
   "outputs": [
    {
     "data": {
      "text/plain": [
       "10×10 Matrix{Float64}:\n",
       " 0.280608  0.0         0.0         …  0.0         0.0         0.0\n",
       " 0.0       0.00238073  0.0            0.0         0.0         0.0\n",
       " 0.0       0.0         0.00197834     0.0         0.0         0.0\n",
       " 0.0       0.0         0.0            0.0         0.0         0.0\n",
       " 0.0       0.0         0.0            0.0         0.0         0.0\n",
       " 0.0       0.0         0.0         …  0.0         0.0         0.0\n",
       " 0.0       0.0         0.0            0.0         0.0         0.0\n",
       " 0.0       0.0         0.0            0.00230442  0.0         0.0\n",
       " 0.0       0.0         0.0            0.0         0.00194701  0.0\n",
       " 0.0       0.0         0.0            0.0         0.0         0.00231386"
      ]
     },
     "metadata": {},
     "output_type": "display_data"
    }
   ],
   "source": [
    "Σ₀"
   ]
  },
  {
   "cell_type": "code",
   "execution_count": 37,
   "metadata": {},
   "outputs": [
    {
     "data": {
      "text/plain": [
       "3.216045878645831e-8"
      ]
     },
     "metadata": {},
     "output_type": "display_data"
    }
   ],
   "source": [
    "exp(p[1])"
   ]
  },
  {
   "cell_type": "code",
   "execution_count": null,
   "metadata": {},
   "outputs": [],
   "source": []
  }
 ],
 "metadata": {
  "kernelspec": {
   "display_name": "Julia 1.10.5",
   "language": "julia",
   "name": "julia-1.10"
  },
  "language_info": {
   "file_extension": ".jl",
   "mimetype": "application/julia",
   "name": "julia",
   "version": "1.10.5"
  }
 },
 "nbformat": 4,
 "nbformat_minor": 2
}
