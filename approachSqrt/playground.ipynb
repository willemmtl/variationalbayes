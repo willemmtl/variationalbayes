{
 "cells": [
  {
   "cell_type": "code",
   "execution_count": 35,
   "metadata": {},
   "outputs": [],
   "source": [
    "using Random, Gadfly, Optim, Distributions, Distances, LinearAlgebra, ForwardDiff, Cairo\n",
    "\n",
    "include(\"../iGMRF.jl\");\n",
    "include(\"../dataGen.jl\");\n",
    "include(\"../approxFramework.jl\");\n",
    "include(\"../plotting.jl\");\n",
    "include(\"optim.jl\");"
   ]
  },
  {
   "cell_type": "code",
   "execution_count": 11,
   "metadata": {},
   "outputs": [],
   "source": [
    "# Seed\n",
    "Random.seed!(400)\n",
    "# Dimensions de la grille\n",
    "m₁ = 3;\n",
    "m₂ = 3;\n",
    "# Nb total de cellules\n",
    "m = m₁ * m₂;\n",
    "# Matrice de structure\n",
    "κᵤ = 100.0;\n",
    "F = iGMRF(m₁, m₂, κᵤ);\n",
    "# Grille cible\n",
    "grid_target = generateTargetGrid(F);\n",
    "grid_target[:, :, 1] = grid_target[:, :, 1] .+ 10;\n",
    "# Génération de données\n",
    "nobs = 100;\n",
    "Y = generateData(grid_target, nobs);"
   ]
  },
  {
   "cell_type": "code",
   "execution_count": 12,
   "metadata": {},
   "outputs": [
    {
     "data": {
      "text/plain": [
       " * Status: success\n",
       "\n",
       " * Candidate solution\n",
       "    Final objective value:     -6.652865e-11\n",
       "\n",
       " * Found with\n",
       "    Algorithm:     Nelder-Mead\n",
       "\n",
       " * Convergence measures\n",
       "    √(Σ(yᵢ-ȳ)²)/n ≤ 1.0e-08\n",
       "\n",
       " * Work counters\n",
       "    Seconds run:   0  (vs limit Inf)\n",
       "    Iterations:    92\n",
       "    f(x) calls:    160\n"
      ]
     },
     "metadata": {},
     "output_type": "display_data"
    }
   ],
   "source": [
    "res = KLOptim(F, Y)"
   ]
  },
  {
   "cell_type": "markdown",
   "metadata": {},
   "source": [
    "## Analyse de l'approximation"
   ]
  },
  {
   "cell_type": "code",
   "execution_count": 13,
   "metadata": {},
   "outputs": [],
   "source": [
    "η̂ = Optim.minimizer(res)[1:m+1];\n",
    "L̂ = buildLowerTriangular(Optim.minimizer(res)[m+2:end], m);\n",
    "Σ̂ = L̂*L̂'\n",
    "\n",
    "d̂ = MvNormal(η̂, Σ̂);"
   ]
  },
  {
   "cell_type": "markdown",
   "metadata": {},
   "source": [
    "### Visuelle"
   ]
  },
  {
   "cell_type": "markdown",
   "metadata": {},
   "source": [
    "Graphiques LOG"
   ]
  },
  {
   "cell_type": "code",
   "execution_count": 14,
   "metadata": {},
   "outputs": [],
   "source": [
    "npoints = 10000; # Nombre de points sur lesquels évaluer la pdf\n",
    "x = range(-10, 12, npoints);\n",
    "\n",
    "# Mode de la posteriori\n",
    "mode = findMode(θ -> functionalFormPosterior(θ, F=F, Y=Y), [1, fill(0.0, m)...]);\n",
    "α = Optim.minimizer(mode);\n",
    "gap = Optim.minimum(mode);\n",
    "\n",
    "analysisSpace = zeros(m+1, npoints);\n",
    "for j = 1:npoints\n",
    "    analysisSpace[:, j] = [x[j], α[2:end]...];\n",
    "end\n",
    "\n",
    "simApprox = vec(mapslices(x -> logpdf(d̂, x), analysisSpace, dims=1));\n",
    "simPosterior = vec(mapslices(x -> densityTarget(x, gap, F=F, Y=Y), analysisSpace, dims=1));\n",
    "\n",
    "p = plot(\n",
    "    layer(x=x, y=simApprox, Geom.line, Theme(default_color=\"red\")),\n",
    "    layer(x=x, y=simPosterior, Geom.line),\n",
    "    Guide.manual_color_key(\"Legend\", [\"Approximation\", \"Posteriori\"], [\"red\", \"deepskyblue\"]),\n",
    "    Theme(background_color=\"white\"),\n",
    "    Guide.title(\"Pour kappa_u\")\n",
    ")\n",
    "\n",
    "draw(PNG(\"../plots/sqrt/log_kappa.png\", dpi=300), p)"
   ]
  },
  {
   "cell_type": "code",
   "execution_count": 15,
   "metadata": {},
   "outputs": [],
   "source": [
    "npoints = 10000; # Nombre de points sur lesquels évaluer la pdf\n",
    "x = range(-10, 18, npoints);\n",
    "\n",
    "# Mode de la posteriori\n",
    "mode = findMode(θ -> functionalFormPosterior(θ, F=F, Y=Y), [1, fill(0.0, m)...]);\n",
    "α = Optim.minimizer(mode);\n",
    "gap = Optim.minimum(mode);\n",
    "\n",
    "analysisSpace = zeros(m+1, npoints);\n",
    "for j = 1:npoints\n",
    "    analysisSpace[:, j] = [α[1], x[j], α[3:end]...];\n",
    "end\n",
    "\n",
    "simApprox = vec(mapslices(x -> logpdf(d̂, x), analysisSpace, dims=1));\n",
    "simPosterior = vec(mapslices(x -> densityTarget(x, gap, F=F, Y=Y), analysisSpace, dims=1));\n",
    "\n",
    "p = plot(\n",
    "    layer(x=x, y=simApprox, Geom.line, Theme(default_color=\"red\")),\n",
    "    layer(x=x, y=simPosterior, Geom.line),\n",
    "    Guide.manual_color_key(\"Legend\", [\"Approximation\", \"Posteriori\"], [\"red\", \"deepskyblue\"]),\n",
    "    Theme(background_color=\"white\"),\n",
    "    Guide.title(\"Pour mu\")\n",
    ")\n",
    "\n",
    "draw(PNG(\"../plots/sqrt/log_mu.png\", dpi=300), p)"
   ]
  },
  {
   "cell_type": "markdown",
   "metadata": {},
   "source": [
    "Approx vs MCMC"
   ]
  },
  {
   "cell_type": "code",
   "execution_count": 16,
   "metadata": {},
   "outputs": [],
   "source": [
    "include(\"../mcmc.jl\");\n",
    "\n",
    "niter = 10000\n",
    "δ² = 0.2\n",
    "κᵤ₀ = 10\n",
    "μ₀ = zeros(m)\n",
    "\n",
    "θ = gibbs(niter, Y, m₁=m₁, m₂=m₂, δ²=δ², κᵤ₀=κᵤ₀, μ₀=μ₀);\n",
    "\n",
    "warming_size = Int(0.2 * niter);\n",
    "θsampling = θ[warming_size:end, :, :];"
   ]
  },
  {
   "cell_type": "code",
   "execution_count": 19,
   "metadata": {},
   "outputs": [
    {
     "data": {
      "text/plain": [
       "Chains"
      ]
     },
     "metadata": {},
     "output_type": "display_data"
    }
   ],
   "source": [
    "typeof(θsampling)"
   ]
  },
  {
   "cell_type": "code",
   "execution_count": 39,
   "metadata": {},
   "outputs": [],
   "source": [
    "# Pour κᵤ\n",
    "\n",
    "approxDensity(x::Real) = 1/x * pdf(Normal(η̂[1], Σ̂[1, 1]), log(x));\n",
    "a = 0;\n",
    "b = 2000;\n",
    "step=1;\n",
    "\n",
    "plotApproxVSMCMC(\n",
    "    approxDensity,\n",
    "    θsampling.value[:, 1, 1],\n",
    "    \"../plots/sqrt/approxvsmcmc_kappa.png\",\n",
    "    a=a,\n",
    "    b=b,\n",
    "    step=step;\n",
    "    xLabel=\"kappa_u\",\n",
    "    yLabel=\"density\",\n",
    ")"
   ]
  },
  {
   "cell_type": "code",
   "execution_count": 37,
   "metadata": {},
   "outputs": [],
   "source": [
    "# Pour μ\n",
    "\n",
    "approxDensity(x::Real) = pdf(Normal(η̂[2], sqrt(Σ̂[2, 2])), x)\n",
    "a = 9;\n",
    "b = 11;\n",
    "step = .001;\n",
    "\n",
    "plotApproxVSMCMC(\n",
    "    approxDensity,\n",
    "    θsampling.value[:, 2, 1],\n",
    "    \"../plots/sqrt/approxvsmcmc_mu.png\",\n",
    "    a=a,\n",
    "    b=b,\n",
    "    step=step,\n",
    "    xLabel=\"mu\",\n",
    "    yLabel=\"density\",\n",
    ")"
   ]
  },
  {
   "cell_type": "code",
   "execution_count": null,
   "metadata": {},
   "outputs": [],
   "source": []
  }
 ],
 "metadata": {
  "kernelspec": {
   "display_name": "Julia 1.10.5",
   "language": "julia",
   "name": "julia-1.10"
  },
  "language_info": {
   "file_extension": ".jl",
   "mimetype": "application/julia",
   "name": "julia",
   "version": "1.10.5"
  }
 },
 "nbformat": 4,
 "nbformat_minor": 2
}
