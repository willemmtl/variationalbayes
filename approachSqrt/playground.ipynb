{
 "cells": [
  {
   "cell_type": "code",
   "execution_count": 19,
   "metadata": {},
   "outputs": [],
   "source": [
    "using Random, Gadfly, Optim, Distributions, Distances, LinearAlgebra, ForwardDiff, Cairo\n",
    "\n",
    "include(\"../iGMRF.jl\");\n",
    "include(\"../dataGen.jl\");\n",
    "include(\"../approxFramework.jl\");\n",
    "include(\"optim.jl\");"
   ]
  },
  {
   "cell_type": "code",
   "execution_count": 20,
   "metadata": {},
   "outputs": [],
   "source": [
    "# Seed\n",
    "Random.seed!(400)\n",
    "# Dimensions de la grille\n",
    "m₁ = 3;\n",
    "m₂ = 3;\n",
    "# Nb total de cellules\n",
    "m = m₁ * m₂;\n",
    "# Matrice de structure\n",
    "κᵤ = 100.0;\n",
    "F = iGMRF(m₁, m₂, κᵤ);\n",
    "# Grille cible\n",
    "grid_target = generateTargetGrid(F);\n",
    "grid_target[:, :, 1] = grid_target[:, :, 1] .+ 10;\n",
    "# Génération de données\n",
    "nobs = 100;\n",
    "Y = generateData(grid_target, nobs);"
   ]
  },
  {
   "cell_type": "code",
   "execution_count": 21,
   "metadata": {},
   "outputs": [
    {
     "data": {
      "text/plain": [
       " * Status: success\n",
       "\n",
       " * Candidate solution\n",
       "    Final objective value:     -0.000000e+00\n",
       "\n",
       " * Found with\n",
       "    Algorithm:     Nelder-Mead\n",
       "\n",
       " * Convergence measures\n",
       "    √(Σ(yᵢ-ȳ)²)/n ≤ 1.0e-08\n",
       "\n",
       " * Work counters\n",
       "    Seconds run:   0  (vs limit Inf)\n",
       "    Iterations:    90\n",
       "    f(x) calls:    157\n"
      ]
     },
     "metadata": {},
     "output_type": "display_data"
    }
   ],
   "source": [
    "res = KLOptim(F, Y)"
   ]
  },
  {
   "cell_type": "markdown",
   "metadata": {},
   "source": [
    "## Analyse de l'approximation"
   ]
  },
  {
   "cell_type": "code",
   "execution_count": 22,
   "metadata": {},
   "outputs": [],
   "source": [
    "η̂ = Optim.minimizer(res)[1:m+1];\n",
    "L̂ = buildLowerTriangular(Optim.minimizer(res)[m+2:end], m);\n",
    "Σ̂ = L̂*L̂'\n",
    "\n",
    "d̂ = MvNormal(η̂, Σ̂);"
   ]
  },
  {
   "cell_type": "code",
   "execution_count": 30,
   "metadata": {},
   "outputs": [
    {
     "data": {
      "text/plain": [
       "10-element Vector{Float64}:\n",
       "  5.925536731405483\n",
       " 15.039497844919476\n",
       " 10.003219857411954\n",
       "  9.988501837312691\n",
       " 10.011849314822804\n",
       "  9.994964047076985\n",
       "  9.989323934716568\n",
       "  9.991383080168218\n",
       "  9.981799145342451\n",
       "  9.984572290323786"
      ]
     },
     "metadata": {},
     "output_type": "display_data"
    }
   ],
   "source": [
    "η̂"
   ]
  },
  {
   "cell_type": "code",
   "execution_count": 23,
   "metadata": {},
   "outputs": [
    {
     "data": {
      "text/plain": [
       "10×10 Matrix{Float64}:\n",
       "  0.28061  -0.00329  -0.00201  0.00149  …  0.00106  0.0008   0.00301  0.00204\n",
       " -0.00329   0.00238   0.00133  0.00091     0.00079  0.00092  0.00076  0.00068\n",
       " -0.00201   0.00133   0.00198  0.00128     0.00097  0.00079  0.0008   0.00078\n",
       "  0.00149   0.00091   0.00128  0.0023      0.00128  0.0007   0.0008   0.00092\n",
       " -0.00424   0.00137   0.00103  0.00078     0.00082  0.00129  0.00093  0.00077\n",
       " -9.0e-5    0.00099   0.00112  0.00097  …  0.0011   0.00097  0.00109  0.00097\n",
       "  0.00106   0.00079   0.00097  0.00128     0.00194  0.00079  0.00097  0.00129\n",
       "  0.0008    0.00092   0.00079  0.0007      0.00079  0.0023   0.00128  0.00091\n",
       "  0.00301   0.00076   0.0008   0.0008      0.00097  0.00128  0.00195  0.00129\n",
       "  0.00204   0.00068   0.00078  0.00092     0.00129  0.00091  0.00129  0.00231"
      ]
     },
     "metadata": {},
     "output_type": "display_data"
    }
   ],
   "source": [
    "α = Optim.minimizer(initializeValues(θ -> densityTarget(θ, F=F, Y=Y), [1, fill(0.0, m)...]));\n",
    "Σ₀ = round.(inv(computeFisherInformation(θ -> densityTarget(θ, F=F, Y=Y), α)), digits=5);\n",
    "L₀ = cholesky(Σ₀).L;\n",
    "L₀*L₀'"
   ]
  },
  {
   "cell_type": "code",
   "execution_count": 25,
   "metadata": {},
   "outputs": [
    {
     "data": {
      "text/plain": [
       "10×10 Matrix{Float64}:\n",
       "  0.280608  -0.003288  -0.002007  0.001495  …  0.000802  0.003009  0.002037\n",
       " -0.003288   0.002381   0.001333  0.000907     0.00092   0.000761  0.00068\n",
       " -0.002007   0.001333   0.001978  0.001279     0.000794  0.000801  0.000779\n",
       "  0.001495   0.000907   0.001279  0.002302     0.0007    0.000798  0.000919\n",
       " -0.004237   0.00137    0.001029  0.000781     0.001291  0.000934  0.000769\n",
       " -9.3e-5     0.00099    0.001116  0.000971  …  0.000974  0.001094  0.000968\n",
       "  0.001058   0.000789   0.000971  0.001283     0.000792  0.000974  0.001286\n",
       "  0.000802   0.00092    0.000794  0.0007       0.002304  0.001279  0.000914\n",
       "  0.003009   0.000761   0.000801  0.000798     0.001279  0.001947  0.00129\n",
       "  0.002037   0.00068    0.000779  0.000919     0.000914  0.00129   0.002314"
      ]
     },
     "metadata": {},
     "output_type": "display_data"
    }
   ],
   "source": [
    "Σ̂"
   ]
  },
  {
   "cell_type": "markdown",
   "metadata": {},
   "source": [
    "### Visuelle"
   ]
  },
  {
   "cell_type": "markdown",
   "metadata": {},
   "source": [
    "Graphiques LOG"
   ]
  },
  {
   "cell_type": "code",
   "execution_count": 42,
   "metadata": {},
   "outputs": [],
   "source": [
    "npoints = 10000; # Nombre de points sur lesquels évaluer la pdf\n",
    "x = range(-10, 15, npoints);\n",
    "\n",
    "# Mode de la posteriori\n",
    "α = Optim.minimizer(initializeValues(θ -> densityTarget(θ, F=F, Y=Y), [1, fill(0.0, m)...]));\n",
    "\n",
    "analysisSpace = zeros(m+1, npoints);\n",
    "for j = 1:npoints\n",
    "    analysisSpace[:, j] = [x[j], α[2:end]...];\n",
    "end\n",
    "\n",
    "simApprox = vec(mapslices(x -> logpdf(d̂, x), analysisSpace, dims=1));\n",
    "simPosterior = vec(mapslices(x -> densityTarget(x, F=F, Y=Y), analysisSpace, dims=1));\n",
    "\n",
    "p = plot(\n",
    "    layer(x=x, y=simApprox, Geom.line, Theme(default_color=\"red\")),\n",
    "    layer(x=x, y=simPosterior, Geom.line),\n",
    "    Guide.manual_color_key(\"Legend\", [\"Approximation\", \"Posteriori\"], [\"red\", \"deepskyblue\"]),\n",
    "    Theme(background_color=\"white\"),\n",
    "    Guide.title(\"Pour kappa_u\")\n",
    ")\n",
    "\n",
    "draw(PNG(\"../plots/sqrt/log_kappa.png\"), p)"
   ]
  },
  {
   "cell_type": "code",
   "execution_count": 43,
   "metadata": {},
   "outputs": [],
   "source": [
    "npoints = 10000; # Nombre de points sur lesquels évaluer la pdf\n",
    "x = range(-10, 18, npoints);\n",
    "\n",
    "# Mode de la posteriori\n",
    "α = Optim.minimizer(initializeValues(θ -> densityTarget(θ, F=F, Y=Y), [1, fill(0.0, m)...]));\n",
    "\n",
    "analysisSpace = zeros(m+1, npoints);\n",
    "for j = 1:npoints\n",
    "    analysisSpace[:, j] = [α[1], x[j], α[3:end]...];\n",
    "end\n",
    "\n",
    "simApprox = vec(mapslices(x -> logpdf(d̂, x), analysisSpace, dims=1));\n",
    "simPosterior = vec(mapslices(x -> densityTarget(x, F=F, Y=Y), analysisSpace, dims=1));\n",
    "\n",
    "p = plot(\n",
    "    layer(x=x, y=simApprox, Geom.line, Theme(default_color=\"red\")),\n",
    "    layer(x=x, y=simPosterior, Geom.line),\n",
    "    Guide.manual_color_key(\"Legend\", [\"Approximation\", \"Posteriori\"], [\"red\", \"deepskyblue\"]),\n",
    "    Theme(background_color=\"white\"),\n",
    "    Guide.title(\"Pour mu\")\n",
    ")\n",
    "\n",
    "draw(PNG(\"../plots/sqrt/log_mu.png\"), p)"
   ]
  },
  {
   "cell_type": "markdown",
   "metadata": {},
   "source": [
    "Approx vs MCMC"
   ]
  },
  {
   "cell_type": "code",
   "execution_count": 44,
   "metadata": {},
   "outputs": [],
   "source": [
    "include(\"../mcmc.jl\");\n",
    "\n",
    "niter = 10000\n",
    "δ² = 0.2\n",
    "κᵤ₀ = 10\n",
    "μ₀ = zeros(m)\n",
    "\n",
    "θ = gibbs(niter, Y, m₁=m₁, m₂=m₂, δ²=δ², κᵤ₀=κᵤ₀, μ₀=μ₀);\n",
    "\n",
    "warming_size = Int(0.2 * niter);\n",
    "θsampling = θ[warming_size:end, :, :];"
   ]
  },
  {
   "cell_type": "code",
   "execution_count": 45,
   "metadata": {},
   "outputs": [],
   "source": [
    "# Pour κᵤ\n",
    "\n",
    "approxDensity(x::Real) = 1/x * pdf(Normal(η̂[1], Σ̂[1, 1]), log(x))\n",
    "x = 0:1:1000\n",
    "\n",
    "p = plot(\n",
    "    layer(x=θsampling.value[:, 1, 1], Geom.histogram(density=true)),\n",
    "    layer(x=x, y=approxDensity.(x), Geom.line, Theme(default_color=\"red\")),\n",
    "    Guide.manual_color_key(\"Legend\", [\"Approximation\", \"Posteriori\"], [\"red\", \"deepskyblue\"]),\n",
    "    Theme(background_color=\"white\"),\n",
    "    Guide.title(\"Approx vs MCMC pour kappa_u\")\n",
    ")\n",
    "\n",
    "draw(PNG(\"../plots/sqrt/approxvsmcmc_kappa.png\"), p)"
   ]
  },
  {
   "cell_type": "code",
   "execution_count": 46,
   "metadata": {},
   "outputs": [],
   "source": [
    "# Pour μ\n",
    "\n",
    "approxDensity(x::Real) = pdf(Normal(η̂[3], Σ̂[3, 3]), x)\n",
    "x = 7:.1:13\n",
    "\n",
    "p = plot(\n",
    "    layer(x=θsampling.value[:, 2, 1], Geom.histogram(density=true)),\n",
    "    layer(x=x, y=approxDensity.(x), Geom.line, Theme(default_color=\"red\")),\n",
    "    Guide.manual_color_key(\"Legend\", [\"Approximation\", \"Posteriori\"], [\"red\", \"deepskyblue\"]),\n",
    "    Theme(background_color=\"white\"),\n",
    "    Guide.title(\"Approx vs MCMC pour mu\")\n",
    ")\n",
    "\n",
    "draw(PNG(\"../plots/sqrt/approxvsmcmc_mu.png\"), p)"
   ]
  }
 ],
 "metadata": {
  "kernelspec": {
   "display_name": "Julia 1.10.5",
   "language": "julia",
   "name": "julia-1.10"
  },
  "language_info": {
   "file_extension": ".jl",
   "mimetype": "application/julia",
   "name": "julia",
   "version": "1.10.5"
  }
 },
 "nbformat": 4,
 "nbformat_minor": 2
}
